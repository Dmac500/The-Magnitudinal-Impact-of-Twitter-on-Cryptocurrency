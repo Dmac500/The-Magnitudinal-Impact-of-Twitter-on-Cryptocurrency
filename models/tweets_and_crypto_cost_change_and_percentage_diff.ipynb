{
 "cells": [
  {
   "cell_type": "code",
   "execution_count": null,
   "id": "5b95c2f7",
   "metadata": {},
   "outputs": [],
   "source": [
    "import numpy as np\n",
    "import pandas as pd\n",
    "import matplotlib.pyplot as plt\n",
    "import seaborn as sns; sns.set()\n",
    "import statistics\n",
    "from sklearn.linear_model import LinearRegression\n",
    "from sklearn.model_selection import train_test_split"
   ]
  },
  {
   "cell_type": "code",
   "execution_count": 2,
   "id": "cb558b4e",
   "metadata": {},
   "outputs": [],
   "source": [
    "dfTweets = pd.read_csv('../Data/tweets/elon_archive_cleaned.csv')\n",
    "dfBTC = pd.read_csv('../Data/crypto/bitcoinAll_1HR_cleaned.csv')\n",
    "dfDOGE = pd.read_csv('../Data/crypto/dogecoinAll_1HR_cleaned.csv')"
   ]
  },
  {
   "cell_type": "code",
   "execution_count": 3,
   "id": "98f81979",
   "metadata": {},
   "outputs": [],
   "source": [
    "btcDaily = dfBTC[dfBTC['hour'] == 23]\n",
    "dogeDaily = dfDOGE[dfDOGE['hour'] == 23]\n",
    "validTweets = dfTweets[(dfTweets['year'] >= 2016)]"
   ]
  },
  {
   "cell_type": "code",
   "execution_count": 4,
   "id": "20291d9b",
   "metadata": {},
   "outputs": [],
   "source": [
    "BTCprevClose = []\n",
    "BTCcurClose = []"
   ]
  },
  {
   "cell_type": "code",
   "execution_count": 5,
   "id": "655bee27",
   "metadata": {},
   "outputs": [],
   "source": [
    "btcDates = np.array(btcDaily['Date'])"
   ]
  },
  {
   "cell_type": "code",
   "execution_count": 6,
   "id": "4bc6edd7",
   "metadata": {},
   "outputs": [],
   "source": [
    "tweetsDate = np.array(validTweets['date'])"
   ]
  },
  {
   "cell_type": "markdown",
   "id": "0e0bdcdc",
   "metadata": {},
   "source": [
    "## Bitcoin prices of current day and previous day of tweets"
   ]
  },
  {
   "cell_type": "code",
   "execution_count": 7,
   "id": "e2687ae5",
   "metadata": {},
   "outputs": [
    {
     "name": "stderr",
     "output_type": "stream",
     "text": [
      "C:\\Users\\gageg\\AppData\\Local\\Temp/ipykernel_7080/2279058182.py:15: SettingWithCopyWarning: \n",
      "A value is trying to be set on a copy of a slice from a DataFrame.\n",
      "Try using .loc[row_indexer,col_indexer] = value instead\n",
      "\n",
      "See the caveats in the documentation: https://pandas.pydata.org/pandas-docs/stable/user_guide/indexing.html#returning-a-view-versus-a-copy\n",
      "  validTweets['BTC_Prev_Close'] = btcPrevClose\n",
      "C:\\Users\\gageg\\AppData\\Local\\Temp/ipykernel_7080/2279058182.py:16: SettingWithCopyWarning: \n",
      "A value is trying to be set on a copy of a slice from a DataFrame.\n",
      "Try using .loc[row_indexer,col_indexer] = value instead\n",
      "\n",
      "See the caveats in the documentation: https://pandas.pydata.org/pandas-docs/stable/user_guide/indexing.html#returning-a-view-versus-a-copy\n",
      "  validTweets['BTC_Cur_Close'] = btcCurClose\n"
     ]
    }
   ],
   "source": [
    "from datetime import date, timedelta\n",
    "btcCurClose = []\n",
    "btcPrevClose = []\n",
    "for i in range(0,len(tweetsDate)):\n",
    "    val = btcDaily[btcDaily['Date'] == tweetsDate[i]]\n",
    "    for j in val['rate_close']:\n",
    "        btcCurClose.append(j)\n",
    "for i in range(0,len(tweetsDate)):\n",
    "    today = date.fromisoformat(tweetsDate[i])\n",
    "    yesterday = today - timedelta(days = 1)\n",
    "    val = btcDaily[btcDaily['Date'] == str(yesterday)]\n",
    "    for j in val['rate_close']:\n",
    "        btcPrevClose.append(j)\n",
    "\n",
    "validTweets['BTC_Prev_Close'] = btcPrevClose\n",
    "validTweets['BTC_Cur_Close'] = btcCurClose"
   ]
  },
  {
   "cell_type": "code",
   "execution_count": 8,
   "id": "f993ed60",
   "metadata": {},
   "outputs": [
    {
     "name": "stderr",
     "output_type": "stream",
     "text": [
      "C:\\Users\\gageg\\AppData\\Local\\Temp/ipykernel_7080/2867648932.py:9: SettingWithCopyWarning: \n",
      "A value is trying to be set on a copy of a slice from a DataFrame.\n",
      "Try using .loc[row_indexer,col_indexer] = value instead\n",
      "\n",
      "See the caveats in the documentation: https://pandas.pydata.org/pandas-docs/stable/user_guide/indexing.html#returning-a-view-versus-a-copy\n",
      "  validTweets['btcDiff'] = btcDiff\n",
      "C:\\Users\\gageg\\AppData\\Local\\Temp/ipykernel_7080/2867648932.py:10: SettingWithCopyWarning: \n",
      "A value is trying to be set on a copy of a slice from a DataFrame.\n",
      "Try using .loc[row_indexer,col_indexer] = value instead\n",
      "\n",
      "See the caveats in the documentation: https://pandas.pydata.org/pandas-docs/stable/user_guide/indexing.html#returning-a-view-versus-a-copy\n",
      "  validTweets['btcChange'] = btcChange\n"
     ]
    }
   ],
   "source": [
    "btcPriceCur =  np.array(validTweets['BTC_Cur_Close'])\n",
    "btcpricePrev = np.array(validTweets['BTC_Prev_Close'])\n",
    "btcChange = []\n",
    "btcDiff = []\n",
    "for i in range(0,len(btcpricePrev)):\n",
    "    btcDiff.append(btcPriceCur[i] - btcpricePrev[i])\n",
    "    btcChange.append(((float(btcPriceCur[i])-btcpricePrev[i])/btcpricePrev[i])*100)\n",
    "    \n",
    "validTweets['btcDiff'] = btcDiff\n",
    "validTweets['btcChange'] = btcChange"
   ]
  },
  {
   "cell_type": "markdown",
   "id": "8f6880e7",
   "metadata": {},
   "source": [
    "## DogeCoin prices of current day and previous day of tweets"
   ]
  },
  {
   "cell_type": "code",
   "execution_count": 9,
   "id": "2e644fe1",
   "metadata": {},
   "outputs": [
    {
     "name": "stderr",
     "output_type": "stream",
     "text": [
      "C:\\Users\\gageg\\AppData\\Local\\Temp/ipykernel_7080/3898205219.py:16: SettingWithCopyWarning: \n",
      "A value is trying to be set on a copy of a slice from a DataFrame.\n",
      "Try using .loc[row_indexer,col_indexer] = value instead\n",
      "\n",
      "See the caveats in the documentation: https://pandas.pydata.org/pandas-docs/stable/user_guide/indexing.html#returning-a-view-versus-a-copy\n",
      "  validTweets['DOGE_Prev_Close'] = dogePrevClose\n",
      "C:\\Users\\gageg\\AppData\\Local\\Temp/ipykernel_7080/3898205219.py:17: SettingWithCopyWarning: \n",
      "A value is trying to be set on a copy of a slice from a DataFrame.\n",
      "Try using .loc[row_indexer,col_indexer] = value instead\n",
      "\n",
      "See the caveats in the documentation: https://pandas.pydata.org/pandas-docs/stable/user_guide/indexing.html#returning-a-view-versus-a-copy\n",
      "  validTweets['DOGE_Cur_Close'] = dogeCurClose\n"
     ]
    }
   ],
   "source": [
    "dogeCurClose = []\n",
    "dogePrevClose = []\n",
    "\n",
    "for i in range(0,len(tweetsDate)):\n",
    "    val = dogeDaily[dogeDaily['Date'] == tweetsDate[i]]\n",
    "    for j in val['rate_close']:\n",
    "        dogeCurClose.append(j)\n",
    "        \n",
    "for i in range(0,len(tweetsDate)):\n",
    "    today = date.fromisoformat(tweetsDate[i])\n",
    "    yesterday = today - timedelta(days = 1)\n",
    "    val = dogeDaily[dogeDaily['Date'] == str(yesterday)]\n",
    "    for j in val['rate_close']:\n",
    "        dogePrevClose.append(j)\n",
    "\n",
    "validTweets['DOGE_Prev_Close'] = dogePrevClose\n",
    "validTweets['DOGE_Cur_Close'] = dogeCurClose"
   ]
  },
  {
   "cell_type": "code",
   "execution_count": 10,
   "id": "4437ed93",
   "metadata": {},
   "outputs": [
    {
     "name": "stderr",
     "output_type": "stream",
     "text": [
      "C:\\Users\\gageg\\AppData\\Local\\Temp/ipykernel_7080/3938249883.py:9: SettingWithCopyWarning: \n",
      "A value is trying to be set on a copy of a slice from a DataFrame.\n",
      "Try using .loc[row_indexer,col_indexer] = value instead\n",
      "\n",
      "See the caveats in the documentation: https://pandas.pydata.org/pandas-docs/stable/user_guide/indexing.html#returning-a-view-versus-a-copy\n",
      "  validTweets['dogeDiff'] = dogeDiff\n",
      "C:\\Users\\gageg\\AppData\\Local\\Temp/ipykernel_7080/3938249883.py:10: SettingWithCopyWarning: \n",
      "A value is trying to be set on a copy of a slice from a DataFrame.\n",
      "Try using .loc[row_indexer,col_indexer] = value instead\n",
      "\n",
      "See the caveats in the documentation: https://pandas.pydata.org/pandas-docs/stable/user_guide/indexing.html#returning-a-view-versus-a-copy\n",
      "  validTweets['dogeChange'] = dogeChange\n"
     ]
    }
   ],
   "source": [
    "dogePriceCur =  np.array(validTweets['DOGE_Cur_Close'])\n",
    "dogepricePrev = np.array(validTweets['DOGE_Prev_Close'])\n",
    "dogeChange = []\n",
    "dogeDiff = []\n",
    "for i in range(0,len(dogepricePrev)):\n",
    "    dogeDiff.append(dogePriceCur[i] - dogepricePrev[i])\n",
    "    dogeChange.append(((float(dogePriceCur[i])-dogepricePrev[i])/dogepricePrev[i])*100)\n",
    "    \n",
    "validTweets['dogeDiff'] = dogeDiff\n",
    "validTweets['dogeChange'] = dogeChange"
   ]
  },
  {
   "cell_type": "markdown",
   "id": "57c7de2d",
   "metadata": {},
   "source": [
    "# Extract the combined data set that shows the crypto related tweets and the price changes"
   ]
  },
  {
   "cell_type": "code",
   "execution_count": 12,
   "id": "c2213083",
   "metadata": {},
   "outputs": [],
   "source": [
    "# validTweets.to_csv('tweets_and_crypto_price_changes.csv') # commented out so it doesn't replicate data"
   ]
  },
  {
   "cell_type": "markdown",
   "id": "55d044a3",
   "metadata": {},
   "source": [
    "# Explore and quanitfy the percentage change between crypto related tweets and non-crypto related tweets prices"
   ]
  },
  {
   "cell_type": "code",
   "execution_count": 13,
   "id": "dcd62320",
   "metadata": {},
   "outputs": [],
   "source": [
    "cryptoTweets = validTweets[(validTweets['crypto_related'] == True)]\n",
    "nonCryptoTweets = validTweets[(validTweets['crypto_related'] == False)]"
   ]
  },
  {
   "cell_type": "code",
   "execution_count": 14,
   "id": "039bfc63",
   "metadata": {},
   "outputs": [],
   "source": [
    "cryptoTweets = cryptoTweets.drop_duplicates(subset = [\"date\"])\n",
    "nonCryptoTweets = nonCryptoTweets.drop_duplicates(subset = [\"date\"])"
   ]
  },
  {
   "cell_type": "code",
   "execution_count": 15,
   "id": "caf15ffd",
   "metadata": {},
   "outputs": [
    {
     "name": "stdout",
     "output_type": "stream",
     "text": [
      "Average Percentage change of Doge during non-crypto related tweets\n",
      "11.75091031268275\n",
      "Average Percentage change of BTC during non-crypto related tweets\n",
      "0.46312191650491275\n"
     ]
    }
   ],
   "source": [
    "print(\"Average Percentage change of Doge during non-crypto related tweets\")\n",
    "print(nonCryptoTweets['dogeChange'].mean())\n",
    "print(\"Average Percentage change of BTC during non-crypto related tweets\")\n",
    "print(nonCryptoTweets['btcChange'].mean())"
   ]
  },
  {
   "cell_type": "code",
   "execution_count": 16,
   "id": "588c3454",
   "metadata": {},
   "outputs": [
    {
     "name": "stdout",
     "output_type": "stream",
     "text": [
      "Average Percentage change of Doge during crypto related tweets days\n",
      "7.566781282992763\n",
      "Average Percentage change of BTC during crypto related tweets day\n",
      "1.1285902915731645\n"
     ]
    }
   ],
   "source": [
    "print(\"Average Percentage change of Doge during crypto related tweets days\")\n",
    "print(cryptoTweets['dogeChange'].mean())\n",
    "print(\"Average Percentage change of BTC during crypto related tweets day\")\n",
    "print(cryptoTweets['btcChange'].mean())"
   ]
  },
  {
   "cell_type": "markdown",
   "id": "7500c2af",
   "metadata": {},
   "source": [
    "# Import Prophet for model creation of Time Series and Forecasting price\n",
    "\n",
    "installation documentation: https://facebook.github.io/prophet/docs/installation.html"
   ]
  },
  {
   "cell_type": "code",
   "execution_count": null,
   "id": "ab3b2ee1",
   "metadata": {},
   "outputs": [],
   "source": [
    "from prophet import Prophet\n",
    "from prophet.diagnostics import performance_metrics\n",
    "import matplotlib.pyplot as plt"
   ]
  },
  {
   "cell_type": "markdown",
   "id": "5a4b7a7d",
   "metadata": {},
   "source": [
    "# BTC RATE CLOSE MODEL\n"
   ]
  },
  {
   "cell_type": "code",
   "execution_count": 1,
   "id": "5a391b09",
   "metadata": {},
   "outputs": [
    {
     "ename": "NameError",
     "evalue": "name 'btcDaily' is not defined",
     "output_type": "error",
     "traceback": [
      "\u001b[1;31m---------------------------------------------------------------------------\u001b[0m",
      "\u001b[1;31mNameError\u001b[0m                                 Traceback (most recent call last)",
      "\u001b[1;32m~\\AppData\\Local\\Temp/ipykernel_9564/3504780930.py\u001b[0m in \u001b[0;36m<module>\u001b[1;34m\u001b[0m\n\u001b[1;32m----> 1\u001b[1;33m \u001b[0mdf\u001b[0m \u001b[1;33m=\u001b[0m \u001b[0mbtcDaily\u001b[0m\u001b[1;33m[\u001b[0m\u001b[1;33m[\u001b[0m\u001b[1;34m'Date'\u001b[0m\u001b[1;33m,\u001b[0m\u001b[1;34m'rate_close'\u001b[0m\u001b[1;33m]\u001b[0m\u001b[1;33m]\u001b[0m\u001b[1;33m\u001b[0m\u001b[1;33m\u001b[0m\u001b[0m\n\u001b[0m\u001b[0;32m      2\u001b[0m \u001b[0mdf\u001b[0m \u001b[1;33m=\u001b[0m \u001b[0mdf\u001b[0m\u001b[1;33m.\u001b[0m\u001b[0mrename\u001b[0m\u001b[1;33m(\u001b[0m\u001b[0mcolumns\u001b[0m\u001b[1;33m=\u001b[0m\u001b[1;33m{\u001b[0m\u001b[1;34m\"Date\"\u001b[0m\u001b[1;33m:\u001b[0m \u001b[1;34m\"ds\"\u001b[0m\u001b[1;33m,\u001b[0m \u001b[1;34m\"rate_close\"\u001b[0m\u001b[1;33m:\u001b[0m \u001b[1;34m\"y\"\u001b[0m\u001b[1;33m}\u001b[0m\u001b[1;33m,\u001b[0m \u001b[0merrors\u001b[0m\u001b[1;33m=\u001b[0m\u001b[1;34m\"raise\"\u001b[0m\u001b[1;33m)\u001b[0m\u001b[1;33m\u001b[0m\u001b[1;33m\u001b[0m\u001b[0m\n",
      "\u001b[1;31mNameError\u001b[0m: name 'btcDaily' is not defined"
     ]
    }
   ],
   "source": [
    "df = btcDaily[['Date','rate_close']]\n",
    "df = df.rename(columns={\"Date\": \"ds\", \"rate_close\": \"y\"}, errors=\"raise\")"
   ]
  },
  {
   "cell_type": "code",
   "execution_count": null,
   "id": "3b05617b",
   "metadata": {},
   "outputs": [],
   "source": [
    "btcm = Prophet(seasonality_mode='multiplicative')\n",
    "btcm.fit(df)\n",
    "future = btcm.make_future_dataframe(periods=365, freq='D')\n",
    "forecast_m = btcm.predict(future)\n",
    "print(\"\\n\\nBITCOIN\")\n",
    "btcm.plot(forecast_m,xlabel='Time',ylabel='Price');\n",
    "btcm.plot_components(forecast_m);\n",
    "plt.show()"
   ]
  },
  {
   "cell_type": "markdown",
   "id": "5ea35c6d",
   "metadata": {},
   "source": [
    "# DOGE RATE CLOSE MODEL"
   ]
  },
  {
   "cell_type": "code",
   "execution_count": null,
   "id": "7be603fe",
   "metadata": {},
   "outputs": [],
   "source": [
    "df = dogeDaily[['Date','rate_close']]\n",
    "df = df.rename(columns={\"Date\": \"ds\", \"rate_close\": \"y\"}, errors=\"raise\")"
   ]
  },
  {
   "cell_type": "code",
   "execution_count": null,
   "id": "b1d21dde",
   "metadata": {},
   "outputs": [],
   "source": [
    "dogem = Prophet(seasonality_mode='multiplicative')\n",
    "dogem.fit(df)\n",
    "future = dogem.make_future_dataframe(periods=365, freq='D')\n",
    "forecast_m = dogem.predict(future)\n",
    "print(\"\\n\\nDOGECOIN\")\n",
    "dogem.plot(forecast_m,xlabel='Time',ylabel='Price');\n",
    "dogem.plot_components(forecast_m);\n",
    "plt.show()"
   ]
  },
  {
   "cell_type": "markdown",
   "id": "c77dc943",
   "metadata": {},
   "source": [
    "# BTC RATE CHANGE MODEL"
   ]
  },
  {
   "cell_type": "code",
   "execution_count": null,
   "id": "bf3edae6",
   "metadata": {},
   "outputs": [],
   "source": [
    "df = validTweets[['date','btcChange']]\n",
    "df = df.rename(columns={\"date\": \"ds\", \"btcChange\": \"y\"}, errors=\"raise\")\n",
    "\n",
    "btcChangeM = Prophet()\n",
    "btcChangeM.fit(df)\n",
    "future = btcChangeM.make_future_dataframe(periods=365, freq='D')\n",
    "forecast_m = btcChangeM.predict(future)\n",
    "print(\"\\n\\nBTC RATE CHANGE MODEL\")\n",
    "btcChangeM.plot(forecast_m,xlabel='Time',ylabel='Price');\n",
    "# btcChangeM.plot_components(forecast_m);\n",
    "plt.show()"
   ]
  },
  {
   "cell_type": "markdown",
   "id": "7e014830",
   "metadata": {},
   "source": [
    " # DOGE RATE CHANGE MODEL"
   ]
  },
  {
   "cell_type": "code",
   "execution_count": null,
   "id": "14b533c1",
   "metadata": {},
   "outputs": [],
   "source": [
    "df = validTweets[['date','dogeChange']]\n",
    "df = df.rename(columns={\"date\": \"ds\", \"dogeChange\": \"y\"}, errors=\"raise\")\n",
    "\n",
    "dogeChangeM = Prophet()\n",
    "dogeChangeM.fit(df)\n",
    "future = dogeChangeM.make_future_dataframe(periods=365, freq='D')\n",
    "forecast_m = dogeChangeM.predict(future)\n",
    "print(\"\\n\\nDOGE RATE CHANGE MODEL\")\n",
    "dogeChangeM.plot(forecast_m,xlabel='Time',ylabel='Price');\n",
    "# dogeChangeM.plot_components(forecast_m);\n",
    "plt.show()"
   ]
  },
  {
   "cell_type": "markdown",
   "id": "b34d11b1",
   "metadata": {},
   "source": [
    "# Model of Crypto Tweets %change for Bitcoin and DOGE"
   ]
  },
  {
   "cell_type": "code",
   "execution_count": null,
   "id": "a1bb44d9",
   "metadata": {},
   "outputs": [],
   "source": [
    "print('BITCOIN % CHANGE')\n",
    "df = cryptoTweets[['date','btcChange']]\n",
    "# df2 = cryptoTweets[['date','dogeChange']]\n",
    "df = df.rename(columns={\"date\": \"ds\", \"btcChange\": \"y\"}, errors=\"raise\")\n",
    "btcChangeM = Prophet(seasonality_mode='multiplicative')\n",
    "btcChangeM.fit(df)\n",
    "future = btcChangeM.make_future_dataframe(periods=365, freq='D')\n",
    "forecast_m = btcChangeM.predict(future)\n",
    "print(\"\\n\\nBTC RATE CHANGE MODEL: CRYPTO TWEETS\")\n",
    "btcChangeM.plot(forecast_m,xlabel='Time',ylabel='Price');\n",
    "btcChangeM.plot_components(forecast_m);\n",
    "plt.show()\n",
    "\n",
    "print('DOGE % CHANGE')\n",
    "df = cryptoTweets[['date','dogeChange']]\n",
    "df = df.rename(columns={\"date\": \"ds\", \"dogeChange\": \"y\"}, errors=\"raise\")\n",
    "dogeChangeM = Prophet(seasonality_mode='multiplicative')\n",
    "dogeChangeM.fit(df)\n",
    "future = dogeChangeM.make_future_dataframe(periods=365, freq='D')\n",
    "forecast_m = dogeChangeM.predict(future)\n",
    "print(\"\\n\\nDOGE RATE CHANGE MODEL: CRYPTO TWEETS\")\n",
    "dogeChangeM.plot(forecast_m,xlabel='Time',ylabel='Price');\n",
    "dogeChangeM.plot_components(forecast_m);\n",
    "plt.show()"
   ]
  },
  {
   "cell_type": "markdown",
   "id": "9d814942",
   "metadata": {},
   "source": [
    "# Model of Non-Crypto Tweets %change for Bitcoin and DOGE"
   ]
  },
  {
   "cell_type": "code",
   "execution_count": null,
   "id": "6aa2b394",
   "metadata": {},
   "outputs": [],
   "source": [
    "print('BITCOIN % CHANGE')\n",
    "df = nonCryptoTweets[['date','btcChange']]\n",
    "df = df.rename(columns={\"date\": \"ds\", \"btcChange\": \"y\"}, errors=\"raise\")\n",
    "btcChangeM = Prophet(seasonality_mode='multiplicative')\n",
    "btcChangeM.fit(df)\n",
    "future = btcChangeM.make_future_dataframe(periods=365, freq='D')\n",
    "forecast_m = btcChangeM.predict(future)\n",
    "print(\"\\n\\nBTC RATE CHANGE MODEL: CRYPTO TWEETS\")\n",
    "btcChangeM.plot(forecast_m,xlabel='Time',ylabel='Price');\n",
    "btcChangeM.plot_components(forecast_m);\n",
    "plt.show()\n",
    "\n",
    "print('DOGE % CHANGE')\n",
    "df = nonCryptoTweets[['date','dogeChange']]\n",
    "df = df.rename(columns={\"date\": \"ds\", \"dogeChange\": \"y\"}, errors=\"raise\")\n",
    "dogeChangeM = Prophet(seasonality_mode='multiplicative')\n",
    "dogeChangeM.fit(df)\n",
    "future = dogeChangeM.make_future_dataframe(periods=365, freq='D')\n",
    "forecast_m = dogeChangeM.predict(future)\n",
    "print(\"\\n\\nDOGE RATE CHANGE MODEL: CRYPTO TWEETS\")\n",
    "dogeChangeM.plot(forecast_m,xlabel='Time',ylabel='Price');\n",
    "dogeChangeM.plot_components(forecast_m);\n",
    "plt.show()"
   ]
  }
 ],
 "metadata": {
  "kernelspec": {
   "display_name": "Python 3 (ipykernel)",
   "language": "python",
   "name": "python3"
  },
  "language_info": {
   "codemirror_mode": {
    "name": "ipython",
    "version": 3
   },
   "file_extension": ".py",
   "mimetype": "text/x-python",
   "name": "python",
   "nbconvert_exporter": "python",
   "pygments_lexer": "ipython3",
   "version": "3.8.1"
  }
 },
 "nbformat": 4,
 "nbformat_minor": 5
}
