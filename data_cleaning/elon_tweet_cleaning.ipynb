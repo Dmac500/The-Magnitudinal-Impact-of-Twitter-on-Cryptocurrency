{
 "cells": [
  {
   "cell_type": "markdown",
   "id": "e90c5aa0",
   "metadata": {},
   "source": [
    "# Elon musk tweet cleaning and export"
   ]
  },
  {
   "cell_type": "code",
   "execution_count": 2,
   "id": "2d457463",
   "metadata": {},
   "outputs": [],
   "source": [
    "import pandas as pd\n",
    "import numpy as np\n",
    "import matplotlib.pyplot as plt"
   ]
  },
  {
   "cell_type": "code",
   "execution_count": 3,
   "id": "fe5ec256",
   "metadata": {},
   "outputs": [],
   "source": [
    "df = pd.read_csv('../Data/tweets/elon_archive.csv')"
   ]
  },
  {
   "cell_type": "code",
   "execution_count": 4,
   "id": "471b753a",
   "metadata": {},
   "outputs": [],
   "source": [
    "keep = ['date','time','username','name','tweet']\n",
    "for i in df.keys():\n",
    "    if i not in keep:\n",
    "        df = df.drop(columns=[i])\n",
    "        \n",
    "year = []\n",
    "month = []\n",
    "day = []\n",
    "        \n",
    "df.drop(df.loc[df['date']=='date'].index, inplace=True)\n",
    "\n",
    "for i in df.index:\n",
    "    date = df['date'][i]\n",
    "    date = date.split('-')\n",
    "    year.append(int(date[0]))\n",
    "    month.append(int(date[1]))\n",
    "    day.append(int(date[2]))\n",
    "    \n",
    "df['month'] = month\n",
    "df['year'] = year\n",
    "df['day'] = day\n",
    "    \n",
    "    \n",
    "hour = []\n",
    "minute = []\n",
    "second = []\n",
    "\n",
    "for i in df.index:\n",
    "    time = df['time'][i]\n",
    "    time = time.split(':')\n",
    "    hour.append(int(time[0]))\n",
    "    minute.append(int(time[1]))\n",
    "    second.append(int(time[2]))\n",
    "    \n",
    "df['hour'] = hour\n",
    "df['minute'] = minute\n",
    "df['second'] = second"
   ]
  },
  {
   "cell_type": "code",
   "execution_count": 5,
   "id": "fa457fa3",
   "metadata": {},
   "outputs": [],
   "source": [
    "# check if tweets are related to relevant crypto currency, add column denoting if they are related\n",
    "get = df[[\"tweet\"]]\n",
    "get = np.array(get)\n",
    "crypto_related = []\n",
    "tweet_length = []\n",
    "\n",
    "for i in get:\n",
    "    for data in i:\n",
    "        tweet_length.append(len(data))\n",
    "        split = data.split(\" \")\n",
    "        if data.lower().count(\"doge\") > 0 or data.lower().count(\"bitcoin\") > 0  or data.lower().count(\"btc\") or data.lower().count(\"crypto\"):\n",
    "            crypto_related.append(True)\n",
    "        else:\n",
    "            crypto_related.append(False)\n",
    "df['tweet_length'] = tweet_length\n",
    "df['crypto_related'] = crypto_related"
   ]
  },
  {
   "cell_type": "code",
   "execution_count": 6,
   "id": "3ee276e0",
   "metadata": {},
   "outputs": [],
   "source": [
    "df.to_csv('elon_archive_cleaned.csv')"
   ]
  }
 ],
 "metadata": {
  "kernelspec": {
   "display_name": "Python 3 (ipykernel)",
   "language": "python",
   "name": "python3"
  },
  "language_info": {
   "codemirror_mode": {
    "name": "ipython",
    "version": 3
   },
   "file_extension": ".py",
   "mimetype": "text/x-python",
   "name": "python",
   "nbconvert_exporter": "python",
   "pygments_lexer": "ipython3",
   "version": "3.8.5"
  }
 },
 "nbformat": 4,
 "nbformat_minor": 5
}
